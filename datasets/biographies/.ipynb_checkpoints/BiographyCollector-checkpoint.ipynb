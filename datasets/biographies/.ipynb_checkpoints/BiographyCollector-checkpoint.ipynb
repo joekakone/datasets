{
 "cells": [
  {
   "cell_type": "code",
   "execution_count": 1,
   "metadata": {
    "collapsed": true
   },
   "outputs": [
    {
     "name": "stdout",
     "output_type": "stream",
     "text": [
      "Collecting beautifulsoup\n",
      "  Downloading https://files.pythonhosted.org/packages/40/f2/6c9f2f3e696ee6a1fb0e4d7850617e224ed2b0b1e872110abffeca2a09d4/BeautifulSoup-3.2.2.tar.gz\n",
      "    Complete output from command python setup.py egg_info:\n",
      "    Traceback (most recent call last):\n",
      "      File \"<string>\", line 1, in <module>\n",
      "      File \"/tmp/pip-install-cngpidm7/beautifulsoup/setup.py\", line 3\n",
      "        \"You're trying to run a very old release of Beautiful Soup under Python 3. This will not work.\"<>\"Please use Beautiful Soup 4, available through the pip package 'beautifulsoup4'.\"\n",
      "                                                                                                        ^\n",
      "    SyntaxError: invalid syntax\n",
      "    \n",
      "    ----------------------------------------\n",
      "\u001b[31mCommand \"python setup.py egg_info\" failed with error code 1 in /tmp/pip-install-cngpidm7/beautifulsoup/\u001b[0m\n",
      "Note: you may need to restart the kernel to use updated packages.\n"
     ]
    }
   ],
   "source": [
    "%pip install beautifulsoup\n",
    "from bs4 import BeautifulSoup"
   ]
  },
  {
   "cell_type": "code",
   "execution_count": 1,
   "metadata": {},
   "outputs": [],
   "source": [
    "import requests\n",
    "from bs4 import BeautifulSoup"
   ]
  },
  {
   "cell_type": "code",
   "execution_count": 10,
   "metadata": {},
   "outputs": [],
   "source": [
    "# url to the plateform gala.fr\n",
    "base_url = \"https://www.gala.fr/stars_et_gotha/\"\n",
    "\n",
    "name_balise = 'h1'\n",
    "details_balise = 'ul'\n",
    "bio_balise = 'div'\n",
    "\n",
    "name_class = 'personLead-name'\n",
    "details_class = 'personLead-details'\n",
    "bio_class = 'ugc'"
   ]
  },
  {
   "cell_type": "code",
   "execution_count": 83,
   "metadata": {},
   "outputs": [],
   "source": [
    "def collect_biography(idft='booba'):\n",
    "    \n",
    "    full_url = base_url + idft\n",
    "    source_code  = requests.get(full_url)\n",
    "    \n",
    "    soup = BeautifulSoup(source_code.text, 'html.parser')\n",
    "    \n",
    "    soup_name = soup.find(name_balise, {'class': name_class})\n",
    "    soup_details = soup.find(details_balise, {'class': details_class})\n",
    "    soup_bio = soup.find(bio_balise, {'class': bio_class})\n",
    "    \n",
    "    name = soup_name.text\n",
    "    details = [li.text for li in soup_details.find_all('li')]\n",
    "    catg = details[0].split(':')[-1].capitalize()\n",
    "    full_name = details[1].split(':')[-1].capitalize()\n",
    "    sign = details[2].split(':')[-1].capitalize()\n",
    "    \n",
    "    naiss_age = details[-2]\n",
    "    naiss_age = naiss_age.replace('\\n', ' ').split()\n",
    "    naiss = naiss_age[4:8]\n",
    "    age = naiss_age[-2]\n",
    "    \n",
    "    country = details[-1].split(':')[-1].capitalize()\n",
    "    \n",
    "    bio = \"\\n\\n\".join([p.text for p in soup_bio.find_all('p')])\n",
    "    \n",
    "    title = \"Famous People: Biographie\"\n",
    "    summary = f\"{name}, {age} ans, {catg}\"\n",
    "    \n",
    "    source = f\"Source: {full_url}\"\n",
    "    \n",
    "#     print(title)\n",
    "    print(summary)\n",
    "#     print('Biographie\\n', bio)\n",
    "#     print(source)\n",
    "    \n",
    "    doc = '\\n'.join([title, summary+'\\n', bio, '\\n'+source, 'Partagez et Abonnez-vous à la page', '#FamousPeople'])\n",
    "    \n",
    "    try:\n",
    "        with open(f'biographies/{idft}.txt', 'w') as f:\n",
    "            f.write(doc)\n",
    "            print(f'Succès pour {idft}')\n",
    "    except:\n",
    "        print('Problème pour ', idft)\n",
    "    \n",
    "#     return doc"
   ]
  },
  {
   "cell_type": "code",
   "execution_count": 84,
   "metadata": {},
   "outputs": [],
   "source": [
    "idfts = [\n",
    "    'booba', \n",
    "    'dadju',\n",
    "    'rihanna',\n",
    "    'kaaris',\n",
    "    'rohff',\n",
    "    'soprano',\n",
    "    'zaho',\n",
    "    'vitaa',\n",
    "    'diam_s',\n",
    "    'kery_james',\n",
    "    'la_fouine',\n",
    "    'stromae',\n",
    "    'orlesan',\n",
    "    'harry_d_angleterre',\n",
    "    'elizabeth_d_angleterre',\n",
    "    'diana_princesse_de_galles',\n",
    "    'akon',\n",
    "    'david_guetta',\n",
    "    'fergie',\n",
    "    'mhd',\n",
    "    'maitre_gims'\n",
    "]"
   ]
  },
  {
   "cell_type": "code",
   "execution_count": 85,
   "metadata": {},
   "outputs": [
    {
     "name": "stdout",
     "output_type": "stream",
     "text": [
      "Booba, 43 ans,  rappeur, producteur\n",
      "Succès pour booba\n",
      "Dadju, 28 ans,  chanteur\n",
      "Succès pour dadju\n",
      "Rihanna, 31 ans,  chanteuse\n",
      "Succès pour rihanna\n",
      "Kaaris, 40 ans,  rappeur\n",
      "Succès pour kaaris\n",
      "Rohff, 42 ans,  rappeur\n",
      "Succès pour rohff\n",
      "Soprano, 41 ans,  rappeur\n",
      "Succès pour soprano\n",
      "Zaho, 39 ans,  chanteuse\n",
      "Succès pour zaho\n",
      "Vitaa, 36 ans,  chanteuse\n",
      "Succès pour vitaa\n",
      "Diam's, 39 ans,  chanteuse\n",
      "Succès pour diam_s\n",
      "Kery James, 42 ans,  rappeur\n",
      "Succès pour kery_james\n",
      "La Fouine, 38 ans,  chanteur, producteur\n",
      "Succès pour la_fouine\n",
      "Stromae, 34 ans,  chanteur\n",
      "Succès pour stromae\n",
      "Harry d'Angleterre, 35 ans,  altesse royale\n",
      "Succès pour harry_d_angleterre\n",
      "Elizabeth d'Angleterre, 93 ans,  reine d'angleterre\n",
      "Succès pour elizabeth_d_angleterre\n",
      "Diana Princesse de Galles, août ans,  princesse\n",
      "Succès pour diana_princesse_de_galles\n",
      "Akon, 46 ans,  acteur\n",
      "Succès pour akon\n",
      "David Guetta, 52 ans,  dj, producteur\n",
      "Succès pour david_guetta\n",
      "Fergie, 44 ans,  chanteuse\n",
      "Succès pour fergie\n",
      "MHD, 25 ans,  rappeur\n",
      "Succès pour mhd\n",
      "Maître Gims, 33 ans,  chanteur\n",
      "Succès pour maitre_gims\n"
     ]
    }
   ],
   "source": [
    "for idft in idfts:\n",
    "    try:\n",
    "        collect_biography(idft)\n",
    "    except:\n",
    "        pass"
   ]
  },
  {
   "cell_type": "code",
   "execution_count": 69,
   "metadata": {},
   "outputs": [
    {
     "name": "stdout",
     "output_type": "stream",
     "text": [
      "Booba, 43 ans,  rappeur, producteur\n"
     ]
    },
    {
     "data": {
      "text/plain": [
       "\"Famous People: Biographie\\nBooba, 43 ans,  rappeur, producteur\\n\\nDe son vrai nom Elie Yaffa, Booba est un rappeur français né à Boulogne-Billancourt, le 9\\xa0décembre\\xa01976. \\xa0\\n\\nIssu d'une famille modeste, Booba grandit dans les Hauts-de-Seine. Lors d'un voyage dans sa famille sénégalaise, il rencontre l'un de ses cousins nommé Boubacar, et c'est en hommage à ce dernier que Booba prendra par la suite son nom de scène. Il fait la rencontre de Daddy Ali alors qu'il est encore danseur de hip hop. Avec lui, il monte son premier groupe\\xa0: Lunatic. Alors que Booba connait ses premiers succès avec Ali grâce aux titres Le Crime Paie et Les Vrais, il est incarcéré en 1997 pendant plus d'un an pour braquage de taxi.\\xa0\\n\\nAprès cette sombre période, Ali et Booba éditent leur album Mauvais Œil, qui leur vaut un disque d'or. Alors qu'Ali se sépare de Booba, la radio Skyrock, connue pour lancer des artistes rap, est séduite par le nouveau morceau Destinée de Booba, aux accents moins sombres et plus R'n'B. Ce dernier voit encore ses efforts récompensés, et est invité à écrire la bande originale du film Taxi 3 sorti en 2003.\\xa0\\n\\nDésormais libre de ses mouvements, Booba monte son propre label, Tallac Records, et refuse de se cantonner au stéréotype du rappeur à l'américaine, pour démontrer la subtilité de son écriture. Plusieurs autres albums vont suivre dans les années qui suivent, faisant de Booba une figure incontournable du rap français. Avec plus d’un million d’albums vendus, il a par ailleurs remporté le concours MyYoutubes, devançant des artistes internationaux, tels que Rihanna ou Lady Gaga. Le 13 avril 2015, son nouvel opus, DUC, arrive dans les bacs.\\n\\nLe 1er août 2018, une bagarre éclate entre Booba et Kaaris à l'aéroport d'Orly. Les deux rappeurs sont interpellés par la police.\\n\\nCôté vie privée, Booba est papa d'une petite fille, Luna, née en 2014, de son union avec Patricia Vinces. Le 28 février 2015, le couple accueille un petit garçon prénommé Omar.\\n\\nSource: https://www.gala.fr/stars_et_gotha/booba\""
      ]
     },
     "execution_count": 69,
     "metadata": {},
     "output_type": "execute_result"
    }
   ],
   "source": [
    "collect_biography()"
   ]
  },
  {
   "cell_type": "code",
   "execution_count": 70,
   "metadata": {},
   "outputs": [
    {
     "name": "stdout",
     "output_type": "stream",
     "text": [
      "Dadju, 28 ans,  chanteur\n"
     ]
    },
    {
     "data": {
      "text/plain": [
       "\"Famous People: Biographie\\nDadju, 28 ans,  chanteur\\n\\nDadju voit le jour le 2 mai 1991 à Bobigny en Seine-Saint-Denis. Issu d’une famille nombreuse, il baigne dans la musique depuis toujours grâce à son père, chanteur du groupe Viva la Musica, et son grand-père, musicien.\\n\\nTout naturellement, les enfants de la famille se tournent vers la musique. Ainsi, Dadju passe beaucoup de temps à chanter et composer avec son frère Gims (connu sous le pseudonyme Maître Gims). Il accompagne souvent ce dernier au studio où il enregistre ses premières chansons. C’est grâce à lui que Dadju décide de se lancer à son tour. Alors que son frère connaît le succès avec son groupe Sexion D’assaut, le jeune chanteur signe avec son premier label Wati B en 2012 et enregistre ses premières chansons avec le rappeur Abou Tall.\\n\\nLe duo, surnommé The Shin Sekaï, sort 2 mixtapes et un album Indéfini avec lesquels il connaît un immense succès. Leur chanson Aime-moi Demain devient même single d’or. Malgré leur succès, les deux chanteurs décident de faire un break et annoncent à leurs fans qu’ils vont chacun faire une carrière solo. Après avoir offert quelques chansons et vidéos sur ses réseaux sociaux, Dadju sort finalement son premier album solo Gentleman 2.0 en novembre 2017. En peu de temps, son album devient deux fois disque de platine et nombreuses de ses chansons deviennent même single d’or.\\n\\nCôté cœur, il s’est marié en janvier 2017 et est devenu papa d’une petite fille en octobre 2017. Le 29 décembre 2019, il annonce lors de l'émission Les enfants de la télé, qu'il va à nouveau être papa.\\xa0\\n\\nSource: https://www.gala.fr/stars_et_gotha/dadju\""
      ]
     },
     "execution_count": 70,
     "metadata": {},
     "output_type": "execute_result"
    }
   ],
   "source": [
    "collect_biography('dadju')"
   ]
  },
  {
   "cell_type": "code",
   "execution_count": 71,
   "metadata": {},
   "outputs": [
    {
     "name": "stdout",
     "output_type": "stream",
     "text": [
      "Rihanna, 31 ans,  chanteuse\n"
     ]
    },
    {
     "data": {
      "text/plain": [
       "\"Famous People: Biographie\\nRihanna, 31 ans,  chanteuse\\n\\nRihanna est née le 20 février 1988 à Saint-Michael, à la Barbade. Son enfance est marquée par la dépendance de son père à la drogue et l’alcool. Ses parents finissent par divorcer l’année de ses quatorze ans. Passionnée de musique depuis son plus jeune âge, elle est repérée en 2003 par le producteur Evan Rogers, alors qu’elle participe à un concours de chant. Ce dernier lui fait enregistrer une maquette de quatre chansons à New York et Jay-Z\\xa0, décide de lui faire signer un contrat avec Def Jam, le label qu’il dirige à l’époque.\\n\\nEn août 2005, la chanteuse sort son premier abum, Music of the Sun, un mélange de reggae, R&B avec une touche pop. C’est un succès: l’album se vend à plus de deux millions d’exemplaires aux Etats-Unis où il est donc certifié disque de platine, comme au Canada. Son premier single, Pon de Replay, atteint la 2ème place au Billboard Hot 100. Rihanna, pour se faire connaître, assure à l’époque la première partie des concerts de Gwen Stefani. En avril 2006, elle sort son deuxième album, A Girl Like Me, porté par les hits SOS (il est son premier n°1 au Billboard Hot 100, où il reste 3 semaines consécutives), Unfaithful (récompensée aux NRJ Music Awards comme étant la meilleure chanson de l’année 2006 et vendu à 4,5 millions d’exemplaires) et Break It Off. L’album lui-même s’écoule à 3,5 millions d’exemplaires. Rihanna surfe sur la vague de son succès et entame une tournée aux Etats-Unis avec les Black Eyes Peas et en Europe avec les Pussycat Dolls.\\n\\nA l’occasion de la sortie de l’album Good Girl Gone Bad en juin 2007,\\xa0les tenues de scène de la chanteuse se font de plus en plus provocantes. L’album rencontre à nouveau un immense succès à travers le monde. Avec huit millions d’exemplaires écoulés, il constitue la deuxième meilleure vente d’albums en 2008 aux Etats-Unis et reste sept semaines consécutives n°1 au Billboard Hot 100. Un an plus tard, la chanteuse sort une réédition de Good Girl Gone Bad (Reloaded) avec trois inédits dont Disturbia, co-écrit par son ex-petit-ami Chris Brown. Le titre est écouté dans le monde entier. Lors de sa tournée mondiale, le Good Girl Gone Bad Tour, Rihanna accentue encore un peu plus son côté dark. Le 27 janvier 2009, elle sort un album entier de remixes de l’album, Good Girl Gone Bad, The Remixes.\\xa0\\n\\nAprès de sombres épisodes dans la vie de la chanteuse avec son petit ami de l’époque Chris Brown, surpris en train de la frapper au visage en février 2009 alors que tous deux se rendaient à une cérémonie des Grammy Awards, l’univers de la chanteuse devient plus dur, plus sombre, mais aussi plus mûr. Le 23 novembre 2009, elle sort l’album Rated R dont le single Russian Roulette se classe dans le top 10 de nombreux pays. Un nouveau triomphe: l’album dépasse les 2 millions d’albums vendus dans le monde. Le 25 mai 2010, elle sort la version remixée de l’album, Rated R\\xa0: Remixed.\\xa0Le 15 novembre 2010, le cinquième album de la chanteuse, Loud, voit le jour. Il est plus accessible, joyeux et festif que Rated R (les sonorités sont pop, R&B, mais aussi dance, rock et reggae), et l’artiste collabore sur plusieurs titres avec le rappeur Eminem. Le premier single, Only Girl (In The World) connaît le succès partout dans le monde et se place lui aussi au premier rang au Billboard Hot 100 aux Etats-Unis.\\n\\nDébut 2011, Rihanna commercialise son premier parfum, Reb’l Fleur. La même année, elle pose dans l’édition américaine du magazine Vogue, et devient ainsi la troisième femme noire de l’histoire à en faire la couverture (après Naomi Campbell et Halle Berry).\\xa0Enfin, le 21 novembre 2011, Rihanna sort son sixième album, Talk Talk Talk. Fruit de plusieurs collaborations avec Calvin Harris (le producteur qui a notamment travaillé pour Kylie Minogue) et Jay-Z, sa tonalité est un condensé de ses deux derniers albums. Rihanna devient ainsi l’artiste détenant le plus grand nombre de singles classés en première position du Billboard Hot 100. Elle est aussi celle qui a mis le moins de temps à décrocher onze titres numéro un au Billboard Hot 100, et détrône donc Mariah Carey. Le 8 mai 2011, la chanteuse met en ligne Where have you Been\\xa0et réalise un nouveau record, avec 4,7 millions de vues en 24 heures.\\xa0\\n\\nEn juillet 2017, Rihanna est à l'affiche du dernier long-métrage de Luc Besson,Valérian et la Cité des mille planètes, aux côtés de Cara Delevingne.\\n\\nCôté vie privée, Rihanna fréquente le rappeur Chris Brown en 2008. Mais après une violente dispute en février 2009 (le rappeur est condamné à 180 jours de travaux d’intérêt général pour coups et blessures), le couple se sépare. La chanteuse est depuis très discrète sur sa vie privée. En août 2016, lors des MTV Video Music Awards, le rappeur Drake lui déclare sa flamme sur scène et l'embrasse. En janvier 2020, Rihanna et Hassan Jameel, homme d'affaires saoudien, se séparent après trois ans de romance.\\n\\nSource: https://www.gala.fr/stars_et_gotha/rihanna\""
      ]
     },
     "execution_count": 71,
     "metadata": {},
     "output_type": "execute_result"
    }
   ],
   "source": [
    "collect_biography('rihanna')"
   ]
  },
  {
   "cell_type": "code",
   "execution_count": null,
   "metadata": {},
   "outputs": [],
   "source": []
  }
 ],
 "metadata": {
  "kernelspec": {
   "display_name": "Python 3",
   "language": "python",
   "name": "python3"
  },
  "language_info": {
   "codemirror_mode": {
    "name": "ipython",
    "version": 3
   },
   "file_extension": ".py",
   "mimetype": "text/x-python",
   "name": "python",
   "nbconvert_exporter": "python",
   "pygments_lexer": "ipython3",
   "version": "3.7.3"
  }
 },
 "nbformat": 4,
 "nbformat_minor": 2
}
